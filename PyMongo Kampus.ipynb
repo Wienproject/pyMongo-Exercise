{
 "cells": [
  {
   "cell_type": "code",
   "execution_count": 17,
   "metadata": {},
   "outputs": [
    {
     "name": "stdout",
     "output_type": "stream",
     "text": [
      "['HRD', 'Penjualan', 'RestaurantNY', 'admin', 'config', 'local']\n"
     ]
    }
   ],
   "source": [
    "import pymongo\n",
    "\n",
    "dburl = 'mongodb://localhost:27017' #url server mongodb yg nanti untuk konek\n",
    "# untuk konekin ke mongodb\n",
    "myMongo = pymongo.MongoClient(dburl)\n",
    "# ini untuk liat list database\n",
    "dbs = myMongo.list_database_names()\n",
    "\n",
    "Kampus = myMongo['Kampus'] #nama database penjualan. (baru)\n",
    "Col_Dosen = Kampus['Dosen'] # ini sama dg fungsi db.createcollection. tp ini jg bisa akses collection lama\n",
    "Col_Mahasiswa = Kampus['Mahasiswa']\n",
    "print(dbs)"
   ]
  },
  {
   "cell_type": "code",
   "execution_count": 18,
   "metadata": {},
   "outputs": [
    {
     "name": "stderr",
     "output_type": "stream",
     "text": [
      "<ipython-input-18-65551385b80f>:1: DeprecationWarning: add_user is deprecated and will be removed in PyMongo 4.0. Use db.command with createUser or updateUser instead\n",
      "  user1 = Kampus.add_user('andi','anditopsecret',roles=['dbAdmin','readWrite'])\n",
      "<ipython-input-18-65551385b80f>:2: DeprecationWarning: add_user is deprecated and will be removed in PyMongo 4.0. Use db.command with createUser or updateUser instead\n",
      "  user2 = Kampus.add_user('budi','buditopsecret',roles=['readWrite'])\n"
     ]
    }
   ],
   "source": [
    "user1 = Kampus.add_user('andi','anditopsecret',roles=['dbAdmin','readWrite'])\n",
    "user2 = Kampus.add_user('budi','buditopsecret',roles=['readWrite'])"
   ]
  },
  {
   "cell_type": "code",
   "execution_count": 19,
   "metadata": {},
   "outputs": [],
   "source": [
    "Data_Dosen=[{'nama':\"Caca\",\n",
    "'usia':28,\n",
    "'asal':\"Jakarta\",\n",
    "'bidang':\"Fisika Astrologi\",\n",
    "'titel':\"S2\",\n",
    "'status':\"Honorer\",\n",
    "'nip':123,\n",
    "'matkul':[\"Metrologi\",\"Kosmologi\",\"Kalkulus\"]},\n",
    "{'nama':\"Dedi\",\n",
    "'usia':29,\n",
    "'asal':\"Yogyakarta\",\n",
    "'bidang':\"Fisika Terapan\",\n",
    "'titel':\"S3\",\n",
    "'status':\"PNS\",\n",
    "'nip':456,\n",
    "'matkul':[\"Instrumentasi\",\"Elektronika\",\"Fisika Dasar\"]},\n",
    "{'nama':\"Euis\",\n",
    "'usia':30,\n",
    "'asal':\"Bandung\",\n",
    "'bidang':\"Fisika Teoretik\",\n",
    "'titel':\"S1\",\n",
    "'status':\"Honorer\",\n",
    "'nip':789,\n",
    "'matkul':[\"Fisika Dasar\",\"Fisika Modern\",\"Kalkulus\"]}]"
   ]
  },
  {
   "cell_type": "code",
   "execution_count": 20,
   "metadata": {},
   "outputs": [
    {
     "name": "stdout",
     "output_type": "stream",
     "text": [
      "data dosen sudah masuk\n"
     ]
    }
   ],
   "source": [
    "Col_Dosen.insert_many(Data_Dosen)\n",
    "print(\"data dosen sudah masuk\")"
   ]
  },
  {
   "cell_type": "code",
   "execution_count": 21,
   "metadata": {},
   "outputs": [],
   "source": [
    "Data_Mahasiswa=[{'nama':\"Faza\",\n",
    "'usia':19,\n",
    "'asal':\"Aceh\",\n",
    "'prodi':\"Fisika\",\n",
    "'angkatan':2017,\n",
    "'nim':123},\n",
    "{'nama':\"Gilang\",\n",
    "'usia':20,\n",
    "'asal':\"Semarang\",\n",
    "'prodi':\"Fisika\",\n",
    "'angkatan':2017,\n",
    "'nim':456},\n",
    "{'nama':\"Hanafi\",\n",
    "'usia':20,\n",
    "'asal':\"Makassar\",\n",
    "'prodi':\"Fisika\",\n",
    "'angkatan':2017,\n",
    "'nim':789},\n",
    "{'nama':\"Dini\",\n",
    "'usia':20,\n",
    "'asal':\"Bekasi\",\n",
    "'prodi':\"Fisika\",\n",
    "'angkatan':2017,\n",
    "'nim':str('004')}]"
   ]
  },
  {
   "cell_type": "code",
   "execution_count": 22,
   "metadata": {},
   "outputs": [
    {
     "name": "stdout",
     "output_type": "stream",
     "text": [
      "data mahasiswa sudah masuk\n"
     ]
    }
   ],
   "source": [
    "Col_Mahasiswa.insert_many(Data_Mahasiswa)\n",
    "print(\"data mahasiswa sudah masuk\")"
   ]
  },
  {
   "cell_type": "code",
   "execution_count": 23,
   "metadata": {},
   "outputs": [
    {
     "name": "stdout",
     "output_type": "stream",
     "text": [
      "Dosen: \n",
      " {'_id': ObjectId('5f64737f70800cfdebd8fd5b'), 'nama': 'Caca', 'usia': 28, 'asal': 'Jakarta', 'bidang': 'Fisika Astrologi', 'titel': 'S2', 'status': 'Honorer', 'nip': 123, 'matkul': ['Metrologi', 'Kosmologi', 'Kalkulus']}\n",
      "Dosen: \n",
      " {'_id': ObjectId('5f64737f70800cfdebd8fd5c'), 'nama': 'Dedi', 'usia': 29, 'asal': 'Yogyakarta', 'bidang': 'Fisika Terapan', 'titel': 'S3', 'status': 'PNS', 'nip': 456, 'matkul': ['Instrumentasi', 'Elektronika', 'Fisika Dasar']}\n",
      "Dosen: \n",
      " {'_id': ObjectId('5f64737f70800cfdebd8fd5d'), 'nama': 'Euis', 'usia': 30, 'asal': 'Bandung', 'bidang': 'Fisika Teoretik', 'titel': 'S1', 'status': 'Honorer', 'nip': 789, 'matkul': ['Fisika Dasar', 'Fisika Modern', 'Kalkulus']}\n",
      "====================================================================================================\n",
      "Mahasiswa: \n",
      " {'_id': ObjectId('5f64738670800cfdebd8fd5e'), 'nama': 'Faza', 'usia': 19, 'asal': 'Aceh', 'prodi': 'Fisika', 'angkatan': 2017, 'nim': 123}\n",
      "Mahasiswa: \n",
      " {'_id': ObjectId('5f64738670800cfdebd8fd5f'), 'nama': 'Gilang', 'usia': 20, 'asal': 'Semarang', 'prodi': 'Fisika', 'angkatan': 2017, 'nim': 456}\n",
      "Mahasiswa: \n",
      " {'_id': ObjectId('5f64738670800cfdebd8fd60'), 'nama': 'Hanafi', 'usia': 20, 'asal': 'Makassar', 'prodi': 'Fisika', 'angkatan': 2017, 'nim': 789}\n",
      "Mahasiswa: \n",
      " {'_id': ObjectId('5f64738670800cfdebd8fd61'), 'nama': 'Dini', 'usia': 20, 'asal': 'Bekasi', 'prodi': 'Fisika', 'angkatan': 2017, 'nim': '004'}\n"
     ]
    }
   ],
   "source": [
    "for i in Col_Dosen.find():\n",
    "    print(f'Dosen: \\n {i}')\n",
    "print ('='*100)\n",
    "for i in Col_Mahasiswa.find():\n",
    "    print(f'Mahasiswa: \\n {i}')"
   ]
  },
  {
   "cell_type": "code",
   "execution_count": 24,
   "metadata": {},
   "outputs": [
    {
     "name": "stdout",
     "output_type": "stream",
     "text": [
      "Berhasil hapus data Faza\n",
      "====================================================================================================\n",
      "Mahasiswa: \n",
      " {'_id': ObjectId('5f64738670800cfdebd8fd5f'), 'nama': 'Gilang', 'usia': 20, 'asal': 'Semarang', 'prodi': 'Fisika', 'angkatan': 2017, 'nim': 456}\n",
      "Mahasiswa: \n",
      " {'_id': ObjectId('5f64738670800cfdebd8fd60'), 'nama': 'Hanafi', 'usia': 20, 'asal': 'Makassar', 'prodi': 'Fisika', 'angkatan': 2017, 'nim': 789}\n",
      "Mahasiswa: \n",
      " {'_id': ObjectId('5f64738670800cfdebd8fd61'), 'nama': 'Dini', 'usia': 20, 'asal': 'Bekasi', 'prodi': 'Fisika', 'angkatan': 2017, 'nim': '004'}\n"
     ]
    }
   ],
   "source": [
    "#HAPUS Property Faza\n",
    "Col_Mahasiswa.delete_one({\"nama\" : \"Faza\"})\n",
    "print(\"Berhasil hapus data Faza\")\n",
    "print('='*100)\n",
    "for i in Col_Mahasiswa.find():\n",
    "    print(f'Mahasiswa: \\n {i}')"
   ]
  },
  {
   "cell_type": "code",
   "execution_count": 25,
   "metadata": {},
   "outputs": [
    {
     "name": "stdout",
     "output_type": "stream",
     "text": [
      "Berhasil menambahkan Dodi\n",
      "====================================================================================================\n",
      "Dosen: \n",
      " {'_id': ObjectId('5f64737f70800cfdebd8fd5b'), 'nama': 'Caca', 'usia': 28, 'asal': 'Jakarta', 'bidang': 'Fisika Astrologi', 'titel': 'S2', 'status': 'Honorer', 'nip': 123, 'matkul': ['Metrologi', 'Kosmologi', 'Kalkulus']}\n",
      "Dosen: \n",
      " {'_id': ObjectId('5f64737f70800cfdebd8fd5c'), 'nama': 'Dedi', 'usia': 29, 'asal': 'Yogyakarta', 'bidang': 'Fisika Terapan', 'titel': 'S3', 'status': 'PNS', 'nip': 456, 'matkul': ['Instrumentasi', 'Elektronika', 'Fisika Dasar']}\n",
      "Dosen: \n",
      " {'_id': ObjectId('5f64737f70800cfdebd8fd5d'), 'nama': 'Euis', 'usia': 30, 'asal': 'Bandung', 'bidang': 'Fisika Teoretik', 'titel': 'S1', 'status': 'Honorer', 'nip': 789, 'matkul': ['Fisika Dasar', 'Fisika Modern', 'Kalkulus']}\n",
      "Dosen: \n",
      " {'_id': ObjectId('5f6473e570800cfdebd8fd62'), 'nama': 'Dodi', 'usia': 27, 'asal': 'Surabaya', 'bidang': 'Computer Science', 'titel': 'S2', 'status': 'PNS', 'nip': 998, 'matkul': ['Data Analysis', 'AI', 'NLP']}\n"
     ]
    }
   ],
   "source": [
    "#Insert Dodi dan data2nya\n",
    "\n",
    "Dodi={'nama':\"Dodi\",\n",
    "'usia':27,\n",
    "'asal':\"Surabaya\",\n",
    "'bidang':\"Computer Science\",\n",
    "'titel':\"S2\",\n",
    "'status':\"PNS\",\n",
    "'nip':998,\n",
    "'matkul':[\"Data Analysis\",\"AI\",\"NLP\"]}\n",
    "\n",
    "Col_Dosen.insert_one(Dodi)\n",
    "print('Berhasil menambahkan Dodi')\n",
    "print('='*100)\n",
    "for i in Col_Dosen.find():\n",
    "    print(f'Dosen: \\n {i}')"
   ]
  },
  {
   "cell_type": "code",
   "execution_count": 28,
   "metadata": {},
   "outputs": [
    {
     "name": "stdout",
     "output_type": "stream",
     "text": [
      "{'_id': ObjectId('5f64738670800cfdebd8fd5f'), 'nama': 'Gilang', 'usia': 20, 'asal': 'Semarang', 'prodi': 'Fisika', 'angkatan': 2017, 'nim': 456}\n",
      "{'_id': ObjectId('5f64738670800cfdebd8fd60'), 'nama': 'Ahmad Hanafi', 'usia': 22, 'asal': 'Makassar', 'prodi': 'Fisika', 'angkatan': 2017, 'nim': 789}\n",
      "{'_id': ObjectId('5f64738670800cfdebd8fd61'), 'nama': 'Dini', 'usia': 20, 'asal': 'Bekasi', 'prodi': 'Fisika', 'angkatan': 2017, 'nim': '004'}\n"
     ]
    }
   ],
   "source": [
    "#Mengubah nama Hanafi dan umurnya\n",
    "\n",
    "Data = {\"nim\" : 789} # kondisi data yg nanti akan d update\n",
    "nama_baru = {\"$set\": {\"nama\": 'Ahmad Hanafi',\"usia\": 22}}\n",
    "\n",
    "Col_Mahasiswa.update_one(Data,nama_baru)\n",
    "#Col_Mahasiswa.update_one(Data,umur_baru)\n",
    "for i in Col_Mahasiswa.find() : \n",
    "    print(i)"
   ]
  },
  {
   "cell_type": "code",
   "execution_count": 29,
   "metadata": {},
   "outputs": [
    {
     "name": "stdout",
     "output_type": "stream",
     "text": [
      "Collection Dosen berhasil diubah\n",
      "Collection Mahasiswa berhasil diubah\n"
     ]
    }
   ],
   "source": [
    "## Mengubah nama property 'asal' > 'Kota_asal' : \n",
    "Data = {} \n",
    "new_val ={\"$rename\": {'asal' : 'Kota_asal'}}\n",
    "Col_Dosen.update_many(Data,new_val)\n",
    "print('Collection Dosen berhasil diubah')\n",
    "Col_Mahasiswa.update_many(Data,new_val)\n",
    "print('Collection Mahasiswa berhasil diubah')"
   ]
  },
  {
   "cell_type": "code",
   "execution_count": 30,
   "metadata": {},
   "outputs": [
    {
     "name": "stdout",
     "output_type": "stream",
     "text": [
      "Collection Mahasiswa berhasil diubah\n"
     ]
    }
   ],
   "source": [
    "## Mengubah prodi menjadi Matematika, untuk kondisi usia=20\n",
    "Data = {'usia':20} \n",
    "new_val ={\"$set\": {'prodi' : 'Matematika'}} \n",
    "Col_Mahasiswa.update_many(Data,new_val)\n",
    "print('Collection Mahasiswa berhasil diubah')"
   ]
  },
  {
   "cell_type": "code",
   "execution_count": 31,
   "metadata": {},
   "outputs": [
    {
     "name": "stdout",
     "output_type": "stream",
     "text": [
      "Dosen: \n",
      " {'_id': ObjectId('5f64737f70800cfdebd8fd5b'), 'nama': 'Caca', 'usia': 28, 'bidang': 'Fisika Astrologi', 'titel': 'S2', 'status': 'Honorer', 'nip': 123, 'matkul': ['Metrologi', 'Kosmologi', 'Kalkulus'], 'Kota_asal': 'Jakarta'}\n",
      "Dosen: \n",
      " {'_id': ObjectId('5f64737f70800cfdebd8fd5c'), 'nama': 'Dedi', 'usia': 29, 'bidang': 'Fisika Terapan', 'titel': 'S3', 'status': 'PNS', 'nip': 456, 'matkul': ['Instrumentasi', 'Elektronika', 'Fisika Dasar'], 'Kota_asal': 'Yogyakarta'}\n",
      "Dosen: \n",
      " {'_id': ObjectId('5f64737f70800cfdebd8fd5d'), 'nama': 'Euis', 'usia': 30, 'bidang': 'Fisika Teoretik', 'titel': 'S1', 'status': 'Honorer', 'nip': 789, 'matkul': ['Fisika Dasar', 'Fisika Modern', 'Kalkulus'], 'Kota_asal': 'Bandung'}\n",
      "Dosen: \n",
      " {'_id': ObjectId('5f6473e570800cfdebd8fd62'), 'nama': 'Dodi', 'usia': 27, 'bidang': 'Computer Science', 'titel': 'S2', 'status': 'PNS', 'nip': 998, 'matkul': ['Data Analysis', 'AI', 'NLP'], 'Kota_asal': 'Surabaya'}\n",
      "====================================================================================================\n",
      "Mahasiswa: \n",
      " {'_id': ObjectId('5f64738670800cfdebd8fd5f'), 'nama': 'Gilang', 'usia': 20, 'prodi': 'Matematika', 'angkatan': 2017, 'nim': 456, 'Kota_asal': 'Semarang'}\n",
      "Mahasiswa: \n",
      " {'_id': ObjectId('5f64738670800cfdebd8fd60'), 'nama': 'Ahmad Hanafi', 'usia': 22, 'prodi': 'Fisika', 'angkatan': 2017, 'nim': 789, 'Kota_asal': 'Makassar'}\n",
      "Mahasiswa: \n",
      " {'_id': ObjectId('5f64738670800cfdebd8fd61'), 'nama': 'Dini', 'usia': 20, 'prodi': 'Matematika', 'angkatan': 2017, 'nim': '004', 'Kota_asal': 'Bekasi'}\n"
     ]
    }
   ],
   "source": [
    "for i in Col_Dosen.find():\n",
    "    print(f'Dosen: \\n {i}')\n",
    "print ('='*100)\n",
    "for i in Col_Mahasiswa.find():\n",
    "    print(f'Mahasiswa: \\n {i}')"
   ]
  },
  {
   "cell_type": "code",
   "execution_count": null,
   "metadata": {},
   "outputs": [],
   "source": []
  }
 ],
 "metadata": {
  "kernelspec": {
   "display_name": "Python 3",
   "language": "python",
   "name": "python3"
  },
  "language_info": {
   "codemirror_mode": {
    "name": "ipython",
    "version": 3
   },
   "file_extension": ".py",
   "mimetype": "text/x-python",
   "name": "python",
   "nbconvert_exporter": "python",
   "pygments_lexer": "ipython3",
   "version": "3.8.3"
  }
 },
 "nbformat": 4,
 "nbformat_minor": 4
}
